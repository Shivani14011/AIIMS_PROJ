{
  "nbformat": 4,
  "nbformat_minor": 0,
  "metadata": {
    "colab": {
      "provenance": [],
      "authorship_tag": "ABX9TyOOMLH0GNe5OOeS9eVAid8J",
      "include_colab_link": true
    },
    "kernelspec": {
      "name": "python3",
      "display_name": "Python 3"
    },
    "language_info": {
      "name": "python"
    }
  },
  "cells": [
    {
      "cell_type": "markdown",
      "metadata": {
        "id": "view-in-github",
        "colab_type": "text"
      },
      "source": [
        "<a href=\"https://colab.research.google.com/github/Shivani14011/AIIMS_PROJ/blob/main/time_.ipynb\" target=\"_parent\"><img src=\"https://colab.research.google.com/assets/colab-badge.svg\" alt=\"Open In Colab\"/></a>"
      ]
    },
    {
      "cell_type": "code",
      "execution_count": null,
      "metadata": {
        "colab": {
          "base_uri": "https://localhost:8080/"
        },
        "id": "D8pHA36AoPgZ",
        "outputId": "14b6a88d-8937-492d-a369-7a221e50c607"
      },
      "outputs": [
        {
          "output_type": "stream",
          "name": "stdout",
          "text": [
            "Object started moving at 0.0 seconds\n",
            "Object stopped moving at 0.5670000000000001 seconds\n"
          ]
        }
      ],
      "source": [
        "import cv2\n",
        "import numpy as np\n",
        "\n",
        "def detect_motion(video_path):\n",
        "    cap = cv2.VideoCapture(video_path)\n",
        "    fgbg = cv2.createBackgroundSubtractorMOG2()\n",
        "\n",
        "    motion_start_time = None\n",
        "    motion_end_time = None\n",
        "    motion_detected = False\n",
        "\n",
        "    while True:\n",
        "        ret, frame = cap.read()\n",
        "\n",
        "        if not ret:\n",
        "            break\n",
        "\n",
        "        # Gaussian blur\n",
        "        blurred = cv2.GaussianBlur(frame, (5, 5), 0)\n",
        "\n",
        "        # median blur\n",
        "        median_blurred = cv2.medianBlur(blurred, 5)\n",
        "\n",
        "        # background subtraction\n",
        "        fgmask = fgbg.apply(median_blurred)\n",
        "\n",
        "        #morphological operations\n",
        "        kernel = np.ones((3, 3), np.uint8)\n",
        "        fgmask = cv2.morphologyEx(fgmask, cv2.MORPH_OPEN, kernel)\n",
        "        fgmask = cv2.morphologyEx(fgmask, cv2.MORPH_CLOSE, kernel)\n",
        "\n",
        "        # Find contours\n",
        "        contours, _ = cv2.findContours(fgmask, cv2.RETR_EXTERNAL, cv2.CHAIN_APPROX_SIMPLE)\n",
        "\n",
        "        if len(contours) > 0:\n",
        "            motion_detected = True\n",
        "\n",
        "            if motion_start_time is None:\n",
        "                motion_start_time = cap.get(cv2.CAP_PROP_POS_MSEC) / 1000\n",
        "\n",
        "        else:\n",
        "            if motion_detected:\n",
        "                motion_end_time = cap.get(cv2.CAP_PROP_POS_MSEC) / 1000\n",
        "                motion_detected = False\n",
        "\n",
        "        if motion_end_time is not None and motion_start_time is not None:\n",
        "            break\n",
        "\n",
        "    cap.release()\n",
        "\n",
        "    print(f'Object started moving at {motion_start_time} seconds')\n",
        "    print(f'Object stopped moving at {motion_end_time} seconds')\n",
        "detect_motion('vvideo.mp4')"
      ]
    }
  ]
}